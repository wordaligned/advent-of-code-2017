{
 "cells": [
  {
   "cell_type": "markdown",
   "metadata": {},
   "source": [
    "# Advent of Code 2017\n",
    "\n",
    "Inspired by [Peter Norvig](https://github.com/norvig/pytudes/blob/master/ipynb/Advent%20of%20Code.ipynb), I am going to try the [Advent of Code 2017](http://adventofcode.com/2017) using a Jupyter notebook.\n",
    "\n",
    "First, I'll import some standard modules."
   ]
  },
  {
   "cell_type": "code",
   "execution_count": 8,
   "metadata": {
    "collapsed": true
   },
   "outputs": [],
   "source": [
    "import collections\n",
    "import functools\n",
    "import itertools as its\n",
    "import math\n",
    "import operator\n",
    "import re\n",
    "import string"
   ]
  },
  {
   "cell_type": "markdown",
   "metadata": {},
   "source": [
    "I'll also gather up general purpose functions here."
   ]
  },
  {
   "cell_type": "code",
   "execution_count": 9,
   "metadata": {
    "collapsed": true
   },
   "outputs": [],
   "source": [
    "def input(day):\n",
    "    'Load the input for `day`'\n",
    "    return open(f'input/{day}').read()\n",
    "\n",
    "def ilen(xs):\n",
    "    'Return the length of an iterable'\n",
    "    return sum(1 for _ in iter(xs))\n",
    "\n",
    "def last(xs):\n",
    "    'Return the last element of an iterable sequence.'\n",
    "    xs = iter(xs)\n",
    "    return collections.deque(xs, maxlen=1)[0]\n",
    "\n",
    "def ints(s):\n",
    "    'Return a list of integer tokens in `s`.'\n",
    "    return [int(x) for x in re.findall(r'-?\\d+', s)]\n",
    "\n",
    "def array(data):\n",
    "    'Convert the data into a list of lists of ints.'\n",
    "    return [ints(line) for line in data.splitlines()]\n",
    "\n",
    "def swap(xs, i, j):\n",
    "    'Swap items in a sequence.'\n",
    "    xs[i], xs[j] = xs[j], xs[i]"
   ]
  },
  {
   "cell_type": "markdown",
   "metadata": {},
   "source": [
    "### [Day 1](http://adventofcode.com/2017/day/1)\n",
    "Calculate a \"captcha\" from an input sequence."
   ]
  },
  {
   "cell_type": "code",
   "execution_count": 5,
   "metadata": {},
   "outputs": [
    {
     "data": {
      "text/plain": [
       "1089"
      ]
     },
     "execution_count": 5,
     "metadata": {},
     "output_type": "execute_result"
    }
   ],
   "source": [
    "def captcha(xs):\n",
    "    '''Sum the digits in xs which match the next in the sequence.\n",
    "\n",
    "    Note: the sequence is circular, so the final element is succeeded\n",
    "    by the first.\n",
    "    1122 => 1 + 2 = 3\n",
    "    1111 => 1 + 1 + 1 + 1 = 4\n",
    "    91212129 => 9\n",
    "    '''\n",
    "    return sum(int(t) for t, n in zip(xs, xs[1:] + xs[:1]) if t==n)\n",
    "\n",
    "captcha(input(1))"
   ]
  },
  {
   "cell_type": "markdown",
   "metadata": {},
   "source": [
    "For the second part of the puzzle, rather than look at the next digit, we should look at the one halfway around. Let's adapt `captcha()` to use any `stride`."
   ]
  },
  {
   "cell_type": "code",
   "execution_count": 6,
   "metadata": {},
   "outputs": [
    {
     "data": {
      "text/plain": [
       "1156"
      ]
     },
     "execution_count": 6,
     "metadata": {},
     "output_type": "execute_result"
    }
   ],
   "source": [
    "def captcha(xs, stride=1):\n",
    "    '''Sum the digits in xs which match the digit `stride` ahead in the sequence.'''\n",
    "    return sum(int(t) for t, n in zip(xs, xs[stride:] + xs[:stride]) if t==n)\n",
    "\n",
    "def captcha_part2(xs):\n",
    "    assert len(xs) % 2 == 0\n",
    "    return captcha(xs, len(xs)//2)\n",
    "\n",
    "def test_captcha():\n",
    "    assert captcha('1122') == 3\n",
    "    assert captcha('1111') == 4\n",
    "    assert captcha('91212129') == 9\n",
    "    assert captcha_part2('1212') == 6\n",
    "    assert captcha_part2('1221') == 0\n",
    "    assert captcha_part2('123123') == 12\n",
    "    assert captcha_part2('12131415') == 4\n",
    "\n",
    "test_captcha()\n",
    "\n",
    "captcha_part2(input(1))"
   ]
  },
  {
   "cell_type": "markdown",
   "metadata": {},
   "source": [
    "### [Day 2](http://adventofcode.com/2017/day/2)\n",
    "The task is to find the checksum of a grid of letters. In part one, the checksum is the sum of the spread of values taken by each row."
   ]
  },
  {
   "cell_type": "code",
   "execution_count": 26,
   "metadata": {},
   "outputs": [
    {
     "data": {
      "text/plain": [
       "48357"
      ]
     },
     "execution_count": 26,
     "metadata": {},
     "output_type": "execute_result"
    }
   ],
   "source": [
    "def checksum(xs):\n",
    "    return sum(max(row) - min(row) for row in xs)\n",
    "\n",
    "spreadsheet = array\n",
    "\n",
    "data = '''\\\n",
    "5 1 9 5\n",
    "7 5 3\n",
    "2 4 6 8'''\n",
    "\n",
    "assert checksum(spreadsheet(data)) == 18\n",
    "\n",
    "checksum(spreadsheet(input(2)))"
   ]
  },
  {
   "cell_type": "markdown",
   "metadata": {},
   "source": [
    "In part two, we are told a there's a pair of numbers on each line where the second evenly divides the first. The checksum is the result of summing the result of dividing the first by the second on each row.\n",
    "We can do this by considering _all_ pairs `(x, y)` on each row, and adding a term of `x//y` if `y` evenly divides `x` or `0` otherwise."
   ]
  },
  {
   "cell_type": "code",
   "execution_count": 8,
   "metadata": {},
   "outputs": [
    {
     "data": {
      "text/plain": [
       "351"
      ]
     },
     "execution_count": 8,
     "metadata": {},
     "output_type": "execute_result"
    }
   ],
   "source": [
    "def term(x, y):\n",
    "    return 0 if x % y else x//y\n",
    "\n",
    "def checksum_part2(xs):\n",
    "    return sum(sum(its.starmap(term, its.permutations(row, 2))) for row in xs)\n",
    "\n",
    "data = '''\\\n",
    "5 9 2 8\n",
    "9 4 7 3\n",
    "3 8 6 5'''\n",
    "\n",
    "assert checksum_part2(spreadsheet(data)) == 9\n",
    "\n",
    "checksum_part2(spreadsheet(input(2)))"
   ]
  },
  {
   "cell_type": "markdown",
   "metadata": {},
   "source": [
    "### [Day 3](http://adventofcode.com/2017/day/3)\n",
    "This puzzle is about navigating a spiral pattern on a two dimensional grid. Let's use complex numbers to represent points and directions on this grid. Turning left is done by multiplying by `1j`."
   ]
  },
  {
   "cell_type": "code",
   "execution_count": 9,
   "metadata": {
    "collapsed": true
   },
   "outputs": [],
   "source": [
    "input3 = 368078\n",
    "\n",
    "def spiral(pos):\n",
    "    'Generate positions \"spiralling\" from the supplied `pos`.'\n",
    "    # Spiral anti-clockwise, heading W, N, E, S\n",
    "    # That is, step 1, 1, 2, 2, 3, 3... in direction W, N, E, S, W, N...\n",
    "    direction = 1\n",
    "    def rotate_anticlockwise(direction): \n",
    "        return direction * 1j\n",
    "    for step2 in its.count(2):\n",
    "        step = step2//2\n",
    "        yield from (pos + direction * s for s in range(step))\n",
    "        pos += direction * step\n",
    "        direction = rotate_anticlockwise(direction)\n",
    "\n",
    "def test_spiral():\n",
    "    s = spiral(0)\n",
    "    assert next(s) == 0\n",
    "    assert next(s) == 1\n",
    "    assert next(s) == 1+1j\n",
    "    assert next(s) == 1j\n",
    "    assert next(s) == -1+1j\n",
    "    assert next(s) == -1\n",
    "    assert next(s) == -1-1j\n",
    "\n",
    "test_spiral()"
   ]
  },
  {
   "cell_type": "markdown",
   "metadata": {},
   "source": [
    "In part one, we must calculate the Manhattan Distance of the place we get to after a number of steps from the starting point."
   ]
  },
  {
   "cell_type": "code",
   "execution_count": 10,
   "metadata": {},
   "outputs": [
    {
     "data": {
      "text/plain": [
       "371.0"
      ]
     },
     "execution_count": 10,
     "metadata": {},
     "output_type": "execute_result"
    }
   ],
   "source": [
    "def distance_to_origin(steps):\n",
    "    s = spiral(0)\n",
    "    pos = next(its.islice(s, steps - 1, None))\n",
    "    return math.fabs(pos.real) + math.fabs(pos.imag)\n",
    "\n",
    "def test_distance_to_origin():\n",
    "    assert distance_to_origin(1) == 0\n",
    "    assert distance_to_origin(12) == 3\n",
    "    assert distance_to_origin(23) == 2\n",
    "    assert distance_to_origin(1024) == 31\n",
    "\n",
    "test_distance_to_origin()\n",
    "\n",
    "distance_to_origin(input3)"
   ]
  },
  {
   "cell_type": "markdown",
   "metadata": {},
   "source": [
    "In part 2, we walk the spiral again, this time filling each square we visit with the sum of its neighbouring values, initialising the first square to `1`."
   ]
  },
  {
   "cell_type": "code",
   "execution_count": 11,
   "metadata": {},
   "outputs": [
    {
     "data": {
      "text/plain": [
       "369601"
      ]
     },
     "execution_count": 11,
     "metadata": {},
     "output_type": "execute_result"
    }
   ],
   "source": [
    "def neighbours(p):\n",
    "    \"Return `p`'s neighbours in the grid.\"\n",
    "    ns = {1, 1+1j, 1j, -1+1j, -1, -1-1j, -1j, 1-1j}\n",
    "    return {p + n for n in ns}\n",
    "\n",
    "def sum_adjacent_squares():\n",
    "    '''Part two of the puzzle - each square is the sum of its neighbours.'''\n",
    "    values = {}\n",
    "    for p in spiral(0):\n",
    "        values[p] = 1 if p == 0 else sum(values.get(n, 0) for n in neighbours(p))\n",
    "        yield values[p]\n",
    "\n",
    "next(v for v in sum_adjacent_squares() if v > input3)"
   ]
  },
  {
   "cell_type": "markdown",
   "metadata": {
    "collapsed": true
   },
   "source": [
    "### [Day 4](http://adventofcode.com/2017/day/4) High-Entropy Passphrases\n",
    "Count up the valid passphrases."
   ]
  },
  {
   "cell_type": "code",
   "execution_count": 12,
   "metadata": {},
   "outputs": [
    {
     "data": {
      "text/plain": [
       "451"
      ]
     },
     "execution_count": 12,
     "metadata": {},
     "output_type": "execute_result"
    }
   ],
   "source": [
    "def valid_passphrase(p, key=lambda w: w):\n",
    "    '''Is the passphrase `p` valid?\n",
    "\n",
    "    Returns True iff no words in the passphrase have the same key.\n",
    "    '''\n",
    "    words = p.split()\n",
    "    return len(words) == len({key(w) for w in words})\n",
    "\n",
    "def test_valid_passphrase():\n",
    "    assert valid_passphrase('aa bb cc dd ee')\n",
    "    assert not valid_passphrase('aa bb cc dd aa')\n",
    "    assert valid_passphrase('aa bb cc dd aaa')\n",
    "\n",
    "test_valid_passphrase()\n",
    "\n",
    "sum(valid_passphrase(p) for p in input(4).splitlines())"
   ]
  },
  {
   "cell_type": "markdown",
   "metadata": {},
   "source": [
    "In the second part, none of the words in the passphrases can be anagrams of each other."
   ]
  },
  {
   "cell_type": "code",
   "execution_count": 13,
   "metadata": {},
   "outputs": [
    {
     "data": {
      "text/plain": [
       "223"
      ]
     },
     "execution_count": 13,
     "metadata": {},
     "output_type": "execute_result"
    }
   ],
   "source": [
    "truths = '''\\\n",
    "abcde fghij is valid\n",
    "abcde xyz ecdab is not valid\n",
    "a ab abc abd abf abj is valid\n",
    "iiii oiii ooii oooi oooo is valid\n",
    "oiii ioii iioi iiio is not valid'''\n",
    "\n",
    "def anagram_key(w):\n",
    "    return tuple(sorted(w))\n",
    "\n",
    "def test_anagram_passphrases():\n",
    "    for t in truths.splitlines():\n",
    "        p, _, v = t.partition(' is ')\n",
    "        assert v in {'valid', 'not valid'}\n",
    "        assert valid_passphrase(p, anagram_key) == (v == 'valid')\n",
    "\n",
    "test_anagram_passphrases()\n",
    "\n",
    "sum(valid_passphrase(p, anagram_key) for p in input(4).splitlines())"
   ]
  },
  {
   "cell_type": "markdown",
   "metadata": {},
   "source": [
    "### [Day 5](http://adventofcode.com/2017/day/5) Twisty Trampolines\n",
    "The program is a list of jump offsets. Each offset is incremented after it's been applied."
   ]
  },
  {
   "cell_type": "code",
   "execution_count": 14,
   "metadata": {},
   "outputs": [
    {
     "data": {
      "text/plain": [
       "354121"
      ]
     },
     "execution_count": 14,
     "metadata": {},
     "output_type": "execute_result"
    }
   ],
   "source": [
    "def steps(jumps, pos=0):\n",
    "    'Generate PC positions for machine in day 5.'\n",
    "    jumps = list(jumps)\n",
    "    while 0 <= pos < len(jumps):\n",
    "        yield pos\n",
    "        j = jumps[pos]\n",
    "        jumps[pos] += 1\n",
    "        pos += j\n",
    "\n",
    "assert ilen(steps([0, 3, 0, 1, -3])) == 5\n",
    "jumps = [int(w) for w in input(5).split()]\n",
    "ilen(steps(jumps))"
   ]
  },
  {
   "cell_type": "markdown",
   "metadata": {},
   "source": [
    "In part 2, the rules for updating the offsets are more complicated."
   ]
  },
  {
   "cell_type": "code",
   "execution_count": 15,
   "metadata": {},
   "outputs": [
    {
     "data": {
      "text/plain": [
       "27283023"
      ]
     },
     "execution_count": 15,
     "metadata": {},
     "output_type": "execute_result"
    }
   ],
   "source": [
    "def steps_part2(jumps, pos=0):\n",
    "    'Generate PC positions for machine in day 5, part b.'\n",
    "    jumps = list(jumps)\n",
    "    while 0 <= pos < len(jumps):\n",
    "        yield pos\n",
    "        j = jumps[pos]\n",
    "        jumps[pos] += 1 if j < 3 else -1\n",
    "        pos += j\n",
    "\n",
    "assert ilen(steps_part2([0, 3, 0, 1, -3])) == 10\n",
    "ilen(steps_part2(jumps))"
   ]
  },
  {
   "cell_type": "markdown",
   "metadata": {},
   "source": [
    "### [Day 6](http://adventofcode.com/2017/day/6) Memory reallocation\n",
    "The program redistributes memory in a list of memory banks, until a repeated pattern is detected. Part one of the puzzle asks for the time until this happens -- acheived by keeping a set of patterns seen so far. Part two also asks for the length of the cycle detected, which can be done using a `{pattern: time}` dictionary."
   ]
  },
  {
   "cell_type": "code",
   "execution_count": 16,
   "metadata": {},
   "outputs": [
    {
     "data": {
      "text/plain": [
       "(14029, 2765)"
      ]
     },
     "execution_count": 16,
     "metadata": {},
     "output_type": "execute_result"
    }
   ],
   "source": [
    "def memory_banks(banks):\n",
    "    'Generate the sequence of values held in the supplied memory banks.'\n",
    "    B = len(banks)\n",
    "    while True:\n",
    "        yield banks\n",
    "        # Find the position of the first bank with the maximum value\n",
    "        M, p = max((b, -i) for i, b in enumerate(banks))\n",
    "        p = -p\n",
    "        # Now spread the contents of this bank evenly\n",
    "        banks[p] = 0\n",
    "        for i in range(p+1, p+1+M):\n",
    "            banks[i % B] += 1\n",
    "\n",
    "def cycle_until_repeat(banks):\n",
    "    '''Cycle the memory banks until we see a pattern we've already seen.\n",
    "\n",
    "    Returns: the time taken to see a repeat and the time since the\n",
    "    value was first seen.\n",
    "    '''\n",
    "    seen = {}\n",
    "    for t, b in enumerate(memory_banks(banks)):\n",
    "        b = tuple(b)\n",
    "        if b in seen:\n",
    "            return t, t - seen[b]\n",
    "        else:\n",
    "            seen[b] = t\n",
    "\n",
    "assert cycle_until_repeat([0, 2, 7, 0]) == (5, 4)\n",
    "cycle_until_repeat([int(w) for w in input(6).split()])"
   ]
  },
  {
   "cell_type": "markdown",
   "metadata": {
    "collapsed": true
   },
   "source": [
    "### [Day 7](http://adventofcode.com/2017/day/7) Recursive Circus\n",
    "Tree processing."
   ]
  },
  {
   "cell_type": "code",
   "execution_count": 17,
   "metadata": {},
   "outputs": [
    {
     "data": {
      "text/plain": [
       "'tknk'"
      ]
     },
     "execution_count": 17,
     "metadata": {},
     "output_type": "execute_result"
    }
   ],
   "source": [
    "example_data = '''\\\n",
    "pbga (66)\n",
    "xhth (57)\n",
    "ebii (61)\n",
    "havc (66)\n",
    "ktlj (57)\n",
    "fwft (72) -> ktlj, cntj, xhth\n",
    "qoyq (66)\n",
    "padx (45) -> pbga, havc, qoyq\n",
    "tknk (41) -> ugml, padx, fwft\n",
    "jptl (61)\n",
    "ugml (68) -> gyxo, ebii, jptl\n",
    "gyxo (61)\n",
    "cntj (57)'''\n",
    "\n",
    "def read_graph_and_weights(data):\n",
    "    '''Returns the graph & weights given data as shown in the example.\n",
    "\n",
    "    Returns:\n",
    "      - a dict mapping parent to children\n",
    "      - a dict mapping node to weight\n",
    "    '''\n",
    "    parse = re.compile('\\w+').findall\n",
    "    rows = [parse(row) for row in data.splitlines()]\n",
    "    return ({node: set(subs)\n",
    "             for node, _, *subs in rows},\n",
    "            {node: int(weight)\n",
    "             for node, weight, *_ in rows})\n",
    "\n",
    "def flatten(xss):\n",
    "    return its.chain.from_iterable(xss)\n",
    "\n",
    "def root(t):\n",
    "    'Find the root of a tree, `t`'\n",
    "    top = set(t) - set(flatten(t.values()))\n",
    "    assert len(top) == 1\n",
    "    return top.pop()\n",
    "\n",
    "t_example, w_example = read_graph_and_weights(example_data)\n",
    "root(t_example)"
   ]
  },
  {
   "cell_type": "code",
   "execution_count": 18,
   "metadata": {},
   "outputs": [
    {
     "name": "stdout",
     "output_type": "stream",
     "text": [
      "ahnofa\n"
     ]
    }
   ],
   "source": [
    "t_day7, w_day7 = read_graph_and_weights(input(7))\n",
    "print(root(t_day7))"
   ]
  },
  {
   "cell_type": "code",
   "execution_count": 19,
   "metadata": {},
   "outputs": [
    {
     "data": {
      "text/plain": [
       "802"
      ]
     },
     "execution_count": 19,
     "metadata": {},
     "output_type": "execute_result"
    }
   ],
   "source": [
    "def transpose_tree(t):\n",
    "    return {c: p for p, children in t.items() for c in children}\n",
    "\n",
    "def balance_tree(t, weights):\n",
    "    tt = transpose_tree(t)\n",
    "    def weight(p):\n",
    "        return weights[p] + sum(map(weight, t[p]))\n",
    "    def siblings(c):\n",
    "        return t[tt[c]] - {c}\n",
    "    def wrong_weight(p):\n",
    "        return weight(p) not in map(weight, siblings(p))\n",
    "    \n",
    "    # Descend the tree following the nodes of wrong weight\n",
    "    wrong = root(t)\n",
    "    while True:\n",
    "        new_wrong = {c for c in t[wrong] if wrong_weight(c)}\n",
    "        assert len(new_wrong) <= 1\n",
    "        if new_wrong:\n",
    "            wrong = new_wrong.pop()\n",
    "        else:\n",
    "            adjust = weight(siblings(wrong).pop()) - weight(wrong)\n",
    "            return weights[wrong] + adjust\n",
    "\n",
    "assert balance_tree(t_example, w_example) == 60\n",
    "balance_tree(t_day7, w_day7)"
   ]
  },
  {
   "cell_type": "markdown",
   "metadata": {
    "collapsed": true
   },
   "source": [
    "### [Day 8](http://adventofcode.com/2017/day/8) I Heard You Like Registers\n",
    "Implement a sequence of instructions. Since the instructions are almost Python, we can use `exec` and `eval`."
   ]
  },
  {
   "cell_type": "code",
   "execution_count": 20,
   "metadata": {},
   "outputs": [
    {
     "data": {
      "text/plain": [
       "defaultdict(int, {'a': 1, 'b': 0, 'c': -10})"
      ]
     },
     "execution_count": 20,
     "metadata": {},
     "output_type": "execute_result"
    }
   ],
   "source": [
    "example_instructions = '''\\\n",
    "b inc 5 if a > 1\n",
    "a inc 1 if b < 5\n",
    "c dec -10 if a >= 1\n",
    "c inc -20 if c == 10'''\n",
    "\n",
    "def eval_cond(cond, registers):\n",
    "    'Evaluate the condition, modifying the registers.'\n",
    "    cond = re.sub(r'([a-zA-Z]+)', r'registers[\"\\1\"]', cond)\n",
    "    return eval(cond)\n",
    "\n",
    "def exec_cmd(cmd, registers):\n",
    "    'Evaluate the command, modifying the registers.'\n",
    "    ops = {'inc': '+=', 'dec': '-='}\n",
    "    reg, op, val = cmd.split()\n",
    "    cmd = f'registers[\"{reg}\"] {ops[op]} {val}'\n",
    "    exec(cmd)\n",
    "\n",
    "def execute_instruction(instruction, registers):\n",
    "    'Executes `line`, modifying `registers`.'\n",
    "    cmd, _, cond = instruction.partition(' if ')\n",
    "    if eval_cond(cond, registers):\n",
    "        exec_cmd(cmd, registers)\n",
    "\n",
    "def run_program(data):\n",
    "    'Runs the program, yielding register state after each step.'\n",
    "    registers = collections.defaultdict(int)\n",
    "    for instruction in data.splitlines():\n",
    "        execute_instruction(instruction, registers)\n",
    "        yield registers\n",
    "\n",
    "last(run_program(example_instructions))"
   ]
  },
  {
   "cell_type": "code",
   "execution_count": 21,
   "metadata": {},
   "outputs": [
    {
     "data": {
      "text/plain": [
       "4416"
      ]
     },
     "execution_count": 21,
     "metadata": {},
     "output_type": "execute_result"
    }
   ],
   "source": [
    "max(last(run_program(input(8))).values())"
   ]
  },
  {
   "cell_type": "code",
   "execution_count": 22,
   "metadata": {},
   "outputs": [
    {
     "data": {
      "text/plain": [
       "5199"
      ]
     },
     "execution_count": 22,
     "metadata": {},
     "output_type": "execute_result"
    }
   ],
   "source": [
    "max(max(regs.values()) for regs in run_program(input(8)))"
   ]
  },
  {
   "cell_type": "markdown",
   "metadata": {},
   "source": [
    "### [Day 9](http://adventofcode.com/2017/day/9) Stream Processing"
   ]
  },
  {
   "cell_type": "code",
   "execution_count": 23,
   "metadata": {},
   "outputs": [
    {
     "data": {
      "text/plain": [
       "(23588, 10045)"
      ]
     },
     "execution_count": 23,
     "metadata": {},
     "output_type": "execute_result"
    }
   ],
   "source": [
    "def skip_garbage(s, pos):\n",
    "    '''Returns the position in `s` after the garbage ends\n",
    "    & the length of the garbage.\n",
    "\n",
    "    pos - the index of a garbage start char <\n",
    "    '''\n",
    "    n = 0\n",
    "    assert s[pos] == '<'\n",
    "    while s[pos] != '>':\n",
    "        if s[pos] == '!':\n",
    "            pos += 2\n",
    "        else:\n",
    "            pos += 1\n",
    "            n += 1\n",
    "    return pos + 1, n - 1 # Advance past >, don't count initial <\n",
    "\n",
    "def test_skip_garbage():\n",
    "    garbage = (('<>', 0),\n",
    "               ('<random characters>', 17),\n",
    "               ('<<<<>', 3),\n",
    "               ('<{!>}>', 2),\n",
    "               ('<!!>', 0),\n",
    "               ('<!!!>>', 0),\n",
    "               ('<{o\"i!a,<{i<a>', 10))\n",
    "    assert all(skip_garbage(g, 0) == (len(g), n) for g, n in garbage)\n",
    "\n",
    "test_skip_garbage()\n",
    "\n",
    "def count_groups_and_garbage(s):\n",
    "    b, e = 0, len(s)\n",
    "    assert s[b] == '{'\n",
    "    groups, garbage = 0, 0\n",
    "    group_depth = 0\n",
    "    while b != e:\n",
    "        if s[b] == '<':\n",
    "            b, n = skip_garbage(s, b)\n",
    "            garbage += n\n",
    "        else:\n",
    "            group_depth += {'{': 1, '}': -1, ',': 0}[s[b]]\n",
    "            if s[b] == '{':\n",
    "                groups += group_depth\n",
    "            b += 1\n",
    "    assert group_depth == 0\n",
    "    return groups, garbage\n",
    "\n",
    "def test_count_groups_and_garbage():\n",
    "    tests = (('{}', 1),\n",
    "             ('{{{}}}', 6),\n",
    "             ('{{},{}}', 5),\n",
    "             ('{{{},{},{{}}}}', 16),\n",
    "             ('{<a>,<a>,<a>,<a>}', 1),\n",
    "             ('{{<ab>},{<ab>},{<ab>},{<ab>}}', 9),\n",
    "             ('{{<!!>},{<!!>},{<!!>},{<!!>}}', 9),\n",
    "             ('{{<a!>},{<a!>},{<a!>},{<ab>}}', 3),)\n",
    "    assert all(count_groups_and_garbage(s)[0] == n for s, n in tests)\n",
    "\n",
    "test_count_groups_and_garbage()\n",
    "count_groups_and_garbage(input(9).strip())"
   ]
  },
  {
   "cell_type": "markdown",
   "metadata": {},
   "source": [
    "### [Day 10](http://adventofcode.com/2017/day/10) Knot Hash\n",
    "Rather than fiddle with reversing elements which wrap around the end of the list, keep rotating the (circular) list so we can simply reverse the elements at its front. A variable `start` tracks the real first element."
   ]
  },
  {
   "cell_type": "code",
   "execution_count": 24,
   "metadata": {},
   "outputs": [
    {
     "data": {
      "text/plain": [
       "46600"
      ]
     },
     "execution_count": 24,
     "metadata": {},
     "output_type": "execute_result"
    }
   ],
   "source": [
    "input10 = '18,1,0,161,255,137,254,252,14,95,165,33,181,168,2,188'\n",
    "\n",
    "def knot_hash(xs, lengths):\n",
    "    start = 0\n",
    "    N = len(xs)\n",
    "    for skip, length in enumerate(lengths):\n",
    "        xs = xs[:length][::-1] + xs[length:]\n",
    "        rot = (length + skip) % N\n",
    "        xs = xs[rot:] + xs[:rot]\n",
    "        start += N - rot\n",
    "    return xs[start % N] * xs[(start+1) % N]\n",
    "\n",
    "xs = list(range(5))\n",
    "assert knot_hash(xs, (3, 4, 1, 5)) == 12\n",
    "xs = list(range(256))\n",
    "knot_hash(xs, map(int, input10.split(',')))"
   ]
  },
  {
   "cell_type": "markdown",
   "metadata": {},
   "source": [
    "Rather than extend or adapt the function in part 1, let's just rewrite it using the more sophisticated rules detailed in part 2"
   ]
  },
  {
   "cell_type": "code",
   "execution_count": 25,
   "metadata": {},
   "outputs": [
    {
     "data": {
      "text/plain": [
       "'23234babdc6afa036749cfa9b597de1b'"
      ]
     },
     "execution_count": 25,
     "metadata": {},
     "output_type": "execute_result"
    }
   ],
   "source": [
    "def knot_hash(xs, lengths):\n",
    "    start = 0\n",
    "    N = len(xs)\n",
    "    lengths = ([ord(c) for c in lengths] + [17, 31, 73, 47, 23]) * 64\n",
    "    for skip, length in enumerate(lengths):\n",
    "        xs = xs[:length][::-1] + xs[length:]\n",
    "        rot = (length + skip) % N\n",
    "        xs = xs[rot:] + xs[:rot]\n",
    "        start += N - rot\n",
    "    start = start % N\n",
    "    xs = xs[start:] + xs[:start]\n",
    "    return [functools.reduce(operator.xor, xs[p:p+16]) for p in range(0, 256, 16)]\n",
    "\n",
    "def hexa(hash):\n",
    "    return ''.join(f'{d:02x}' for d in hash)\n",
    "\n",
    "R256 = list(range(256))\n",
    "assert hexa(knot_hash(R256, '')) == 'a2582a3a0e66e6e86e3812dcb672a272'\n",
    "assert hexa(knot_hash(R256, 'AoC 2017')) == '33efeb34ea91902bb2f59c9920caa6cd'\n",
    "assert hexa(knot_hash(R256, '1,2,3')) == '3efbe78a8d82f29979031a4aa0b16a9d'\n",
    "\n",
    "hexa(knot_hash(R256, input10))"
   ]
  },
  {
   "cell_type": "markdown",
   "metadata": {},
   "source": [
    "### [Day 11](http://adventofcode.com/2017/day/11) Hex Ed\n",
    "This was something new to me - but easily tackled once I'd found [this page on hexagonal grids](https://www.redblobgames.com/grids/hexagons/)."
   ]
  },
  {
   "cell_type": "code",
   "execution_count": 26,
   "metadata": {},
   "outputs": [
    {
     "data": {
      "text/plain": [
       "715.0"
      ]
     },
     "execution_count": 26,
     "metadata": {},
     "output_type": "execute_result"
    }
   ],
   "source": [
    "class hexagonal_coord:\n",
    "    # Use \"cube coords\" which satisfy x+y+z = 0\n",
    "    def __init__(self):\n",
    "        self.x = self.y = self.z = 0\n",
    "\n",
    "    def step(self, dir):\n",
    "        'Step in a \"hexagonal\" direction.'\n",
    "        dx, dy, dz = {\n",
    "            'n': (0,1,-1),\n",
    "            'ne':(1,0,-1),\n",
    "            'se':(1,-1,0),\n",
    "            's': (0,-1,1),\n",
    "            'sw':(-1,0,1),\n",
    "            'nw':(-1,1,0),\n",
    "            }[dir]\n",
    "        self.x += dx\n",
    "        self.y += dy\n",
    "        self.z += dz\n",
    "        \n",
    "    def mod(self):\n",
    "        'Return the number of steps this point is from the origin.'\n",
    "        return max(math.fabs(self.x), math.fabs(self.y), math.fabs(self.z))\n",
    "\n",
    "def hexagonal_path(steps):\n",
    "    p = hexagonal_coord()\n",
    "    for d in steps:\n",
    "        p.step(d)\n",
    "        yield p\n",
    "\n",
    "assert last(hexagonal_path('ne,ne,ne'.split(','))).mod() == 3\n",
    "assert last(hexagonal_path('ne,ne,sw,sw'.split(','))).mod() == 0\n",
    "assert last(hexagonal_path('ne,ne,s,s'.split(','))).mod() == 2\n",
    "assert last(hexagonal_path('se,sw,se,sw,sw'.split(','))).mod() == 3\n",
    "\n",
    "last(hexagonal_path(input(11).strip().split(','))).mod()"
   ]
  },
  {
   "cell_type": "code",
   "execution_count": 27,
   "metadata": {},
   "outputs": [
    {
     "data": {
      "text/plain": [
       "1512.0"
      ]
     },
     "execution_count": 27,
     "metadata": {},
     "output_type": "execute_result"
    }
   ],
   "source": [
    "max(p.mod() for p in hexagonal_path(input(11).strip().split(',')))"
   ]
  },
  {
   "cell_type": "markdown",
   "metadata": {
    "collapsed": true
   },
   "source": [
    "### [Day 12](http://adventofcode.com/2017/day/12) Digital Plumber\n",
    "Another graph processing puzzle."
   ]
  },
  {
   "cell_type": "code",
   "execution_count": 30,
   "metadata": {},
   "outputs": [
    {
     "data": {
      "text/plain": [
       "115"
      ]
     },
     "execution_count": 30,
     "metadata": {},
     "output_type": "execute_result"
    }
   ],
   "source": [
    "example12 = '''\\\n",
    "0 <-> 2\n",
    "1 <-> 1\n",
    "2 <-> 0, 3, 4\n",
    "3 <-> 2, 4\n",
    "4 <-> 2, 3, 6\n",
    "5 <-> 6\n",
    "6 <-> 4, 5\n",
    "'''\n",
    "\n",
    "def connected_components(g):\n",
    "    'Generate connected components of graph `g`.'\n",
    "    to_visit = set(g)\n",
    "    while to_visit:\n",
    "        fringe = {to_visit.pop()}\n",
    "        cpt = set(fringe)\n",
    "        while fringe:\n",
    "            fringe = {v for f in fringe for v in g[f] if v in to_visit}\n",
    "            to_visit -= fringe\n",
    "            cpt |= fringe\n",
    "        yield cpt\n",
    "\n",
    "def read_graph(data):\n",
    "    'Read in graph data formatted as in the example'\n",
    "    return {v: neighbours for v, *neighbours in array(data)}\n",
    "\n",
    "cpts = connected_components(read_graph(example12))\n",
    "assert next(cpt for cpt in cpts if 0 in cpt) == {0, 2, 3, 4, 5, 6}\n",
    "\n",
    "cpts = connected_components(read_graph(input(12)))\n",
    "len(next(cpt for cpt in cpts if 0 in cpt))"
   ]
  },
  {
   "cell_type": "markdown",
   "metadata": {},
   "source": [
    "Part 2 asks for the number of connected components."
   ]
  },
  {
   "cell_type": "code",
   "execution_count": 31,
   "metadata": {},
   "outputs": [
    {
     "data": {
      "text/plain": [
       "221"
      ]
     },
     "execution_count": 31,
     "metadata": {},
     "output_type": "execute_result"
    }
   ],
   "source": [
    "ilen(connected_components(read_graph(input(12))))"
   ]
  },
  {
   "cell_type": "markdown",
   "metadata": {},
   "source": [
    "### [Day 13](http://adventofcode.com/2017/day/13) Packet Scanners\n",
    "Modulo arithmetic."
   ]
  },
  {
   "cell_type": "code",
   "execution_count": 30,
   "metadata": {},
   "outputs": [
    {
     "data": {
      "text/plain": [
       "1588"
      ]
     },
     "execution_count": 30,
     "metadata": {},
     "output_type": "execute_result"
    }
   ],
   "source": [
    "example13 = '''\\\n",
    "0: 3\n",
    "1: 2\n",
    "4: 4\n",
    "6: 4\n",
    "'''\n",
    "\n",
    "def caught(layers_depths, delay=0):\n",
    "    '''Return the positions where the packet is caught by the firewall\n",
    "\n",
    "    layers_depths - the firewall scanner configurations\n",
    "    delay - the delay before starting\n",
    "    '''\n",
    "    L = max(layers_depths)\n",
    "    M = delay + L + 1\n",
    "    layers_periods = {l: 2*(d-1) for l, d in layers_depths.items()} \n",
    "    return (pos for pos in range(L+1)\n",
    "            if (pos + delay) % layers_periods.get(pos, M) == 0)\n",
    "\n",
    "def trip_severity(layers_depths):\n",
    "    'Calculate the severity of a trip through the firewall.'\n",
    "    return sum(pos * layers_depths[pos] for pos in caught(layers_depths))\n",
    "\n",
    "example_layers_depths = dict(array(example13))\n",
    "assert trip_severity(example_layers_depths) == 24\n",
    "\n",
    "layers_depths = dict(array(input(13)))\n",
    "trip_severity(layers_depths)"
   ]
  },
  {
   "cell_type": "markdown",
   "metadata": {},
   "source": [
    "Part 2 asks the smallest time at which a packet will pass cleanly through the firewall."
   ]
  },
  {
   "cell_type": "code",
   "execution_count": 31,
   "metadata": {},
   "outputs": [
    {
     "data": {
      "text/plain": [
       "3865118"
      ]
     },
     "execution_count": 31,
     "metadata": {},
     "output_type": "execute_result"
    }
   ],
   "source": [
    "def escape(layers_depths):\n",
    "    'Return the smallest time when the packet passes through the firewall.'\n",
    "    return next(delay for delay in its.count(1)\n",
    "                if not any(1 for _ in caught(layers_depths, delay)))\n",
    "\n",
    "assert escape(example_layers_depths) == 10\n",
    "escape(layers_depths)"
   ]
  },
  {
   "cell_type": "markdown",
   "metadata": {},
   "source": [
    "### [Day 14](http://adventofcode.com/2017/day/14) Disk Defragmentation\n",
    "Knot hashes and graph processing."
   ]
  },
  {
   "cell_type": "code",
   "execution_count": 32,
   "metadata": {},
   "outputs": [
    {
     "data": {
      "text/plain": [
       "8216"
      ]
     },
     "execution_count": 32,
     "metadata": {},
     "output_type": "execute_result"
    }
   ],
   "source": [
    "def disk_grid(key_string):\n",
    "    'Returns the disk layout produced by `key_string`'\n",
    "    R256 = list(range(256))\n",
    "    return [knot_hash(R256, f'{key_string}-{i}') for i in range(128)]\n",
    "\n",
    "def bitcount(d):\n",
    "    return bin(d).count('1')\n",
    "\n",
    "def used_count(grid):\n",
    "    return sum(bitcount(d) for d in flatten(grid))\n",
    "\n",
    "assert used_count(disk_grid('flqrgnkx')) == 8108\n",
    "used_count(disk_grid('nbysizxe'))"
   ]
  },
  {
   "cell_type": "markdown",
   "metadata": {},
   "source": [
    "The second part asks us to count up connected components of the grid."
   ]
  },
  {
   "cell_type": "code",
   "execution_count": 33,
   "metadata": {},
   "outputs": [
    {
     "data": {
      "text/plain": [
       "1139"
      ]
     },
     "execution_count": 33,
     "metadata": {},
     "output_type": "execute_result"
    }
   ],
   "source": [
    "def neighbours(v):\n",
    "    return [(v[0]+x,v[1]+y) for x,y in ((0,1), (0,-1), (1,0), (-1,0))]\n",
    "\n",
    "def connected_components(grid):\n",
    "    R = range(128)\n",
    "    def on(v):\n",
    "        'Return True iff `v` is a used position in the grid.'\n",
    "        r, c = v\n",
    "        d, m = divmod(c, 8)\n",
    "        return r in R and c in R and grid[r][d] & 1 << (7 - m)\n",
    "\n",
    "    to_visit = {v for v in its.product(R, repeat=2) if on(v)}\n",
    "    \n",
    "    while to_visit:\n",
    "        v = to_visit.pop()\n",
    "        fringe = {v}\n",
    "        cpt = {v}\n",
    "        while fringe:\n",
    "            fringe = {n for f in fringe for n in neighbours(f)\n",
    "                      if on(n) and n not in (cpt|fringe)}\n",
    "            cpt |= fringe\n",
    "            to_visit -= fringe\n",
    "        yield cpt\n",
    "\n",
    "assert ilen(connected_components(disk_grid('flqrgnkx'))) == 1242\n",
    "ilen(connected_components(disk_grid('nbysizxe')))"
   ]
  },
  {
   "cell_type": "markdown",
   "metadata": {},
   "source": [
    "### [Day 15](http://adventofcode.com/2017/day/15) Duelling Generators\n",
    "Number crunching."
   ]
  },
  {
   "cell_type": "code",
   "execution_count": 34,
   "metadata": {},
   "outputs": [
    {
     "data": {
      "text/plain": [
       "597"
      ]
     },
     "execution_count": 34,
     "metadata": {},
     "output_type": "execute_result"
    }
   ],
   "source": [
    "def generator(factor, seed, mod=1):\n",
    "    while True:\n",
    "        seed *= factor\n",
    "        seed %= 0x7fffffff\n",
    "        if seed % mod == 0:\n",
    "            yield seed & 0xffff\n",
    "\n",
    "genA = generator(16807, 65)\n",
    "genB = generator(48271, 8921)\n",
    "\n",
    "assert sum(a == b for a, b in its.islice(zip(genA, genB), 40_000_000)) == 588\n",
    "\n",
    "genA = generator(16807, 516)\n",
    "genB = generator(48271, 190)\n",
    "\n",
    "sum(a == b for a, b in its.islice(zip(genA, genB), 40_000_000))"
   ]
  },
  {
   "cell_type": "code",
   "execution_count": 35,
   "metadata": {},
   "outputs": [
    {
     "data": {
      "text/plain": [
       "303"
      ]
     },
     "execution_count": 35,
     "metadata": {},
     "output_type": "execute_result"
    }
   ],
   "source": [
    "genA = generator(16807, 516, 4)\n",
    "genB = generator(48271, 190, 8)\n",
    "\n",
    "sum(a == b for a, b in its.islice(zip(genA, genB), 5_000_000))"
   ]
  },
  {
   "cell_type": "markdown",
   "metadata": {},
   "source": [
    "### [Day 16](http://adventofcode.com/2017/day/16) Permutation Promenade\n",
    "Shuffling a sequence according to a list of instructions."
   ]
  },
  {
   "cell_type": "code",
   "execution_count": 36,
   "metadata": {},
   "outputs": [
    {
     "data": {
      "text/plain": [
       "'pkgnhomelfdibjac'"
      ]
     },
     "execution_count": 36,
     "metadata": {},
     "output_type": "execute_result"
    }
   ],
   "source": [
    "def dance(progs, moves):\n",
    "    progs = collections.deque(progs)\n",
    "    for m in moves:\n",
    "        if m[0] == 's':\n",
    "            progs.rotate(int(m[1:]))\n",
    "        elif m[0] == 'x':\n",
    "            swap(progs, *ints(m[1:]))\n",
    "        else:\n",
    "            assert m[0] == 'p'\n",
    "            a, _, b = m[1:].partition('/')\n",
    "            swap(progs, progs.index(a), progs.index(b))\n",
    "    return list(progs)\n",
    "\n",
    "progs = 'abcde'\n",
    "moves = 's1 x3/4 pe/b'.split()\n",
    "permuted = dance(progs, moves)\n",
    "assert ''.join(permuted) == 'baedc'\n",
    "\n",
    "progs = 'abcdefghijklmnop'\n",
    "moves = input(16).strip().split(',')\n",
    "permuted = dance(progs, moves)\n",
    "''.join(permuted)"
   ]
  },
  {
   "cell_type": "markdown",
   "metadata": {},
   "source": [
    "The second part of the puzzle requires the dance to be repeated 1e9 times. To do this, we decompose the moves into a shuffle and a swap, which can be applied independently to form the whole dance."
   ]
  },
  {
   "cell_type": "code",
   "execution_count": 37,
   "metadata": {
    "collapsed": true
   },
   "outputs": [],
   "source": [
    "def decompose_dance(progs, moves):\n",
    "    'Decompose dance moves into a positional shuffle and element swaps'\n",
    "    shuf = collections.deque(range(len(progs)))\n",
    "    swop = list(progs)\n",
    "\n",
    "    for m in moves:\n",
    "        if m[0] == 's':\n",
    "            shuf.rotate(int(m[1:]))\n",
    "        elif m[0] == 'x':\n",
    "            swap(shuf, *ints(m[1:]))\n",
    "        else:\n",
    "            a, _, b = m[1:].partition('/')\n",
    "            swap(swop, swop.index(a), swop.index(b))\n",
    "\n",
    "    return dict(enumerate(shuf)), dict(zip(progs, swop))"
   ]
  },
  {
   "cell_type": "markdown",
   "metadata": {},
   "source": [
    "[Exponentiation by squaring](https://en.wikipedia.org/wiki/Exponentiation_by_squaring) allows us to apply these rearrangements 1e9 times in milliseconds rather than hours."
   ]
  },
  {
   "cell_type": "code",
   "execution_count": 61,
   "metadata": {},
   "outputs": [
    {
     "data": {
      "text/plain": [
       "'pogbjfihclkemadn'"
      ]
     },
     "execution_count": 61,
     "metadata": {},
     "output_type": "execute_result"
    }
   ],
   "source": [
    "def keep_dancing(progs, shuf, swop, repeat=1):\n",
    "    'Repeat the `(suf, swap)` dance `repeat` times'\n",
    "    P = len(progs)\n",
    "    while repeat:\n",
    "        repeat, rem = divmod(repeat, 2)\n",
    "        if rem:\n",
    "            progs = [swop[progs[shuf[i]]] for i in range(P)]\n",
    "        shuf = {k: shuf[v] for k, v in shuf.items()}\n",
    "        swop = {k: swop[v] for k, v in swop.items()}\n",
    "    return progs\n",
    "\n",
    "progs = list('abcde')\n",
    "shuf, swop = decompose_dance(progs, 's1 x3/4 pe/b'.split())\n",
    "\n",
    "assert keep_dancing(progs, shuf, swop)    == list('baedc')\n",
    "assert keep_dancing(progs, shuf, swop, 2) == list('ceadb')\n",
    "\n",
    "progs = list('abcdefghijklmnop')\n",
    "shuf, swop = decompose_dance(progs, input(16).split(','))\n",
    "''.join(keep_dancing(progs, shuf, swop, 1_000_000_000))"
   ]
  },
  {
   "cell_type": "markdown",
   "metadata": {},
   "source": [
    "### [Day 17](http://adventofcode.com/2017/day/17) Spinlock\n",
    "Arithmetic"
   ]
  },
  {
   "cell_type": "code",
   "execution_count": 62,
   "metadata": {},
   "outputs": [
    {
     "data": {
      "text/plain": [
       "1025"
      ]
     },
     "execution_count": 62,
     "metadata": {},
     "output_type": "execute_result"
    }
   ],
   "source": [
    "def spinlock(step, stop):\n",
    "    pos, buf = 0, [0]\n",
    "    for v in range(1, stop+1):\n",
    "        pos = (pos + 1 + step) % len(buf)\n",
    "        buf.insert(pos, v)\n",
    "    return buf\n",
    "\n",
    "buf = spinlock(3, 2017)\n",
    "i = buf.index(2017)\n",
    "assert buf[(i + 1) % len(buf)] == 638\n",
    "\n",
    "buf = spinlock(366, 2017)\n",
    "i = buf.index(2017)\n",
    "buf[(i + 1) % len(buf)]"
   ]
  },
  {
   "cell_type": "markdown",
   "metadata": {},
   "source": [
    "For the second part, growing a list by 50 million insertions would take too long. All we need, though, is the second value in the buffer -- the first value remains set to zero. Simply keep track of the length of the buffer and the position within it, updating the result when we're positioned at the start of the buffer."
   ]
  },
  {
   "cell_type": "code",
   "execution_count": 63,
   "metadata": {},
   "outputs": [
    {
     "data": {
      "text/plain": [
       "37803463"
      ]
     },
     "execution_count": 63,
     "metadata": {},
     "output_type": "execute_result"
    }
   ],
   "source": [
    "def spinlock(step, stop):\n",
    "    result = None\n",
    "    pos = 0\n",
    "    for length, v in enumerate(range(1, stop+1), 1):\n",
    "        pos = (pos + 1 + step) % length\n",
    "        if pos == 0:\n",
    "            result = v\n",
    "    return result\n",
    "\n",
    "spinlock(366, 50_000_000)"
   ]
  },
  {
   "cell_type": "markdown",
   "metadata": {},
   "source": [
    "### [Day 18](http://adventofcode.com/2017/day/18) Duet\n",
    "Interpret assembler code."
   ]
  },
  {
   "cell_type": "code",
   "execution_count": 41,
   "metadata": {},
   "outputs": [
    {
     "data": {
      "text/plain": [
       "7071"
      ]
     },
     "execution_count": 41,
     "metadata": {},
     "output_type": "execute_result"
    }
   ],
   "source": [
    "example18 = '''\\\n",
    "set a 1\n",
    "add a 2\n",
    "mul a a\n",
    "mod a 5\n",
    "snd a\n",
    "set a 0\n",
    "rcv a\n",
    "jgz a -1\n",
    "set a 1\n",
    "jgz a -2\n",
    "'''\n",
    "\n",
    "def execute(instructions):\n",
    "    freq = None\n",
    "    pc = 0\n",
    "    regs = collections.defaultdict(int)\n",
    "\n",
    "    def value(arg):\n",
    "        if arg in regs:\n",
    "            return regs[arg]\n",
    "        else:\n",
    "            return int(arg)\n",
    "\n",
    "    while pc in instructions:\n",
    "        op, *args = instructions[pc]\n",
    "        if   op == 'snd': freq = value(args[0])\n",
    "        elif op == 'set': regs[args[0]]  = value(args[1])\n",
    "        elif op == 'add': regs[args[0]] += value(args[1])\n",
    "        elif op == 'mul': regs[args[0]] *= value(args[1])\n",
    "        elif op == 'mod': regs[args[0]] %= value(args[1])\n",
    "        elif op == 'rcv':\n",
    "            if regs.get(args[0]): return freq\n",
    "        elif op != 'jgz':\n",
    "            assert False, f'invalid operation: {op}'\n",
    "\n",
    "        if op == 'jgz' and value(args[0]) > 0:\n",
    "            pc += value(args[1])\n",
    "        else:\n",
    "            pc += 1\n",
    "\n",
    "def parse_instructions(data):\n",
    "    return  {\n",
    "        i : line.split()\n",
    "        for i, line in enumerate(data.splitlines())\n",
    "    }\n",
    "\n",
    "assert execute(parse_instructions(example18)) == 4\n",
    "\n",
    "execute(parse_instructions(input(18)))"
   ]
  },
  {
   "cell_type": "markdown",
   "metadata": {
    "collapsed": true
   },
   "source": [
    "For the second part, the `snd` and `rcv` instructions are implemented differently. We simulate two processes running concurrently, communicating through message queues."
   ]
  },
  {
   "cell_type": "code",
   "execution_count": 42,
   "metadata": {},
   "outputs": [
    {
     "data": {
      "text/plain": [
       "8001"
      ]
     },
     "execution_count": 42,
     "metadata": {},
     "output_type": "execute_result"
    }
   ],
   "source": [
    "def execute_part2(instructions, id, rcv_q, snd_q):\n",
    "    pc, sent = 0, 0\n",
    "    regs = collections.defaultdict(int, p=id)\n",
    "\n",
    "    def value(arg):\n",
    "        if arg in regs:\n",
    "            return regs[arg]\n",
    "        else:\n",
    "            return int(arg)\n",
    "    while pc in instructions:\n",
    "        op, *args = instructions[pc]\n",
    "        if   op == 'snd':\n",
    "            snd_q.append(value(args[0]))\n",
    "            sent += 1\n",
    "        elif op == 'set': regs[args[0]]  = value(args[1])\n",
    "        elif op == 'add': regs[args[0]] += value(args[1])\n",
    "        elif op == 'mul': regs[args[0]] *= value(args[1])\n",
    "        elif op == 'mod': regs[args[0]] %= value(args[1])\n",
    "        elif op == 'rcv':\n",
    "            if not rcv_q: yield sent                \n",
    "            regs[args[0]] = rcv_q.popleft()\n",
    "\n",
    "        if op == 'jgz' and value(args[0]) > 0:\n",
    "            pc += value(args[1])\n",
    "        else:\n",
    "            pc += 1\n",
    "\n",
    "def execute_both(instructions):\n",
    "    'Run two programs and return the number of values sent.'\n",
    "    qs = [collections.deque() for _ in range(2)]\n",
    "    progs = [execute_part2(instructions, i, qs[i], qs[1-i]) for i in range(2)]\n",
    "    sends = [0, 0]\n",
    "\n",
    "    sends[0] = next(progs[0])\n",
    "    while any(qs):\n",
    "        for i in range(2):\n",
    "            if qs[i]:\n",
    "                sends[i] = next(progs[i])\n",
    "\n",
    "    return sends\n",
    "\n",
    "execute_both(parse_instructions(input(18)))[1]"
   ]
  },
  {
   "cell_type": "markdown",
   "metadata": {},
   "source": [
    "### [Day 19](http://adventofcode.com/2017/day/19) A Series of Tubes\n",
    "Follow an ASCII path. Part 1 asks what alphabetic characters we encounter."
   ]
  },
  {
   "cell_type": "code",
   "execution_count": 44,
   "metadata": {},
   "outputs": [
    {
     "data": {
      "text/plain": [
       "'VEBTPXCHLI'"
      ]
     },
     "execution_count": 44,
     "metadata": {},
     "output_type": "execute_result"
    }
   ],
   "source": [
    "def load_route(data):\n",
    "    '''Loads the route data.\n",
    "\n",
    "    returns a dict mapping position to the character at that position\n",
    "    '''\n",
    "    return {(c, r): v\n",
    "            for r, row in enumerate(data.splitlines())\n",
    "            for c, v in enumerate(row)}\n",
    "\n",
    "NSEW = {(0,-1), (0,1), (1,0), (-1,0)}\n",
    "\n",
    "def step(pos, dir):\n",
    "    return pos[0]+dir[0], pos[1]+dir[1]\n",
    "\n",
    "def reverse(dir):\n",
    "    return -dir[0], -dir[1]\n",
    "\n",
    "def traverse(data, pos, dir):\n",
    "    c = data.get(pos)\n",
    "    while c not in '! ':\n",
    "        yield c\n",
    "        pos = step(pos, dir)\n",
    "        c = data.get(pos, '!')\n",
    "        if c == '+':\n",
    "            dir = next((d for d in NSEW - {reverse(dir)}\n",
    "                        if data.get(step(pos, d), '!') not in ' !'),\n",
    "                       '!')\n",
    "\n",
    "def start_pos(route):\n",
    "    'Locate the start position, direction.'\n",
    "    # We are told to start from the top row, moving S\n",
    "    starts = {(x, y) for (x, y), c in route.items() if y == 0 and c == '|'}\n",
    "    assert len(starts) == 1\n",
    "    return starts.pop(), (0, 1)\n",
    "\n",
    "example19 = '''\\\n",
    "     |          \n",
    "     |  +--+    \n",
    "     A  |  C    \n",
    " F---|----E|--+ \n",
    "     |  |  |  D \n",
    "     +B-+  +--+ \n",
    "'''\n",
    "\n",
    "route = load_route(example19)\n",
    "assert ''.join(c for c in traverse(route, *start_pos(route))\n",
    "               if c in string.ascii_letters) == 'ABCDEF'\n",
    "\n",
    "route = load_route(input(19))\n",
    "''.join(c for c in traverse(route, *start_pos(route)) if c in string.ascii_letters)"
   ]
  },
  {
   "cell_type": "markdown",
   "metadata": {},
   "source": [
    "Part 2 asks for the length of the path."
   ]
  },
  {
   "cell_type": "code",
   "execution_count": 47,
   "metadata": {},
   "outputs": [
    {
     "data": {
      "text/plain": [
       "18702"
      ]
     },
     "execution_count": 47,
     "metadata": {},
     "output_type": "execute_result"
    }
   ],
   "source": [
    "route = load_route(example19)\n",
    "assert ilen(traverse(route, *start_pos(route))) == 38\n",
    "route = load_route(input(19))\n",
    "ilen(traverse(route, *start_pos(route)))"
   ]
  },
  {
   "cell_type": "markdown",
   "metadata": {},
   "source": [
    "### [Day 20](http://adventofcode.com/2017/day/20) Particle Swarm\n",
    "Newtonian motion"
   ]
  },
  {
   "cell_type": "code",
   "execution_count": 32,
   "metadata": {},
   "outputs": [
    {
     "data": {
      "text/plain": [
       "344"
      ]
     },
     "execution_count": 32,
     "metadata": {},
     "output_type": "execute_result"
    }
   ],
   "source": [
    "def manhattan(row):\n",
    "    '''Returns \"Manhattan\" acceleration, velocity, position.\n",
    "\n",
    "    This can be used as a key to sort eventual distance from origin.\n",
    "    '''\n",
    "    M = math.fabs\n",
    "    return sum(map(M, row[6:])), sum(map(M, row[3:6])), sum(map(M, row[:3]))\n",
    "\n",
    "example20 = '''\\\n",
    "p=< 3,0,0>, v=< 2,0,0>, a=<-1,0,0>\n",
    "p=< 4,0,0>, v=< 0,0,0>, a=<-2,0,0>\n",
    "'''\n",
    "state = array(example20)\n",
    "assert min(enumerate(state), key=lambda i_row: manhattan(i_row[1]))[0] == 0\n",
    "\n",
    "state = array(input(20))\n",
    "assert len({tuple(r) for r in state}) == len(state) # Check there's a unique answer\n",
    "\n",
    "min(enumerate(state), key=lambda i_row: manhattan(i_row[1]))[0]"
   ]
  },
  {
   "cell_type": "markdown",
   "metadata": {},
   "source": [
    "I cheated on the second part, which asks how many particles are left after all collisions have been resolved. I simulated the universe for a (large) fixed number of steps, and guessed there would be no further collisions."
   ]
  },
  {
   "cell_type": "code",
   "execution_count": 53,
   "metadata": {},
   "outputs": [
    {
     "data": {
      "text/plain": [
       "404"
      ]
     },
     "execution_count": 53,
     "metadata": {},
     "output_type": "execute_result"
    }
   ],
   "source": [
    "position = operator.itemgetter(0, 1, 2)\n",
    "\n",
    "def step(state):\n",
    "    for row in state:\n",
    "        row[3]+=row[6]; row[4]+=row[7]; row[5]+=row[8] \n",
    "        row[0]+=row[3]; row[1]+=row[4]; row[2]+=row[5] \n",
    "\n",
    "example20_part2 = '''\\\n",
    "p=<-6,0,0>, v=< 3,0,0>, a=< 0,0,0>    \n",
    "p=<-4,0,0>, v=< 2,0,0>, a=< 0,0,0>\n",
    "p=<-2,0,0>, v=< 1,0,0>, a=< 0,0,0>\n",
    "p=< 3,0,0>, v=<-1,0,0>, a=< 0,0,0>\n",
    "'''\n",
    "\n",
    "def simulate(state):\n",
    "    while True:\n",
    "        state.sort(key=position)\n",
    "        state = [list(gp) for _, gp in its.groupby(state, key=position)]\n",
    "        state = [gp[0] for gp in state if len(gp) == 1]\n",
    "        step(state)\n",
    "        yield len(state)\n",
    "\n",
    "alive = simulate(initial_state(example20_part2))\n",
    "assert next(alive) == 4\n",
    "assert next(alive) == 4\n",
    "assert next(alive) == 1\n",
    "\n",
    "alive = simulate(initial_state(input(20)))\n",
    "next(its.islice(alive, 10000, None)) # HACK: Guess no collisions for t > 10000"
   ]
  },
  {
   "cell_type": "markdown",
   "metadata": {},
   "source": [
    "### [Day 21](http://adventofcode.com/2017/day/21) Fractal Art\n",
    "Growing a pattern."
   ]
  },
  {
   "cell_type": "code",
   "execution_count": 56,
   "metadata": {},
   "outputs": [
    {
     "name": "stdout",
     "output_type": "stream",
     "text": [
      "\n",
      ".#.\n",
      "..#\n",
      "###\n",
      "\n",
      "#..#\n",
      "....\n",
      "....\n",
      "#..#\n",
      "\n",
      "##.##.\n",
      "#..#..\n",
      "......\n",
      "##.##.\n",
      "#..#..\n",
      "......\n"
     ]
    }
   ],
   "source": [
    "def side(sq):\n",
    "    'Return the side length of a square.'\n",
    "    return int(math.sqrt(len(sq)))\n",
    "\n",
    "def rotate(sq):\n",
    "    'Rotate a square by a right angle.'\n",
    "    N = side(sq)\n",
    "    return {(N-y-1,x):v for (x,y),v in sq.items()}\n",
    "\n",
    "def rotations(sq):\n",
    "    'Generate the 4 rotational variants of a square.'\n",
    "    for _ in range(4):\n",
    "        yield sq\n",
    "        sq = rotate(sq)\n",
    "\n",
    "def flip(sq):\n",
    "    'Flip a square about x==y diagonal.'\n",
    "    return {(y,x):v for (x,y),v in sq.items()}\n",
    "\n",
    "def variants(sq):\n",
    "    'Yield the rotational and flipped variants of a square.'\n",
    "    return its.chain(rotations(sq), rotations(flip(sq)))\n",
    "\n",
    "def hashable_sq(sq):\n",
    "    '''Return a hashable version of the square dict.\n",
    "\n",
    "    This is for use as a key when looking up patterns.\n",
    "    '''\n",
    "    return tuple(sorted(sq.items()))\n",
    "\n",
    "def sq_points(S):\n",
    "    'Generate (x, y) positions in a square.'\n",
    "    return its.product(range(S), repeat=2)\n",
    "\n",
    "def load(pattern):\n",
    "    '''Loads a pattern of the form \".#./..#/###\"\n",
    "\n",
    "    Returns a dict mapping (x, y) => True if the entry at (x, y) is #\n",
    "                                     False otherwise\n",
    "    '''\n",
    "    return {(x, y): (v == '#')\n",
    "            for y, row in enumerate(pattern.split('/'))\n",
    "            for x, v in enumerate(row)}\n",
    "\n",
    "def load_all(data):\n",
    "    '''Load all of the patterns\n",
    "\n",
    "    Returns a dict mapping pattern to replacement\n",
    "    '''\n",
    "    replacements = {}\n",
    "\n",
    "    for line in data.splitlines():\n",
    "        lt, _, rt = line.partition(' => ')\n",
    "        patt = load(lt)\n",
    "        repl = load(rt)\n",
    "        replacements.update(\n",
    "            (p, repl) for p in map(hashable_sq, variants(patt)))\n",
    "\n",
    "    return replacements\n",
    "\n",
    "def shift(sq, X, Y, S):\n",
    "    return {(x, y): sq[(X+x,Y+y)] for x, y in sq_points(S)}\n",
    "\n",
    "def fill(sq, X, Y, repl):\n",
    "    'Fills square `sq` with values in `repl` shifted by `(X, Y)`'\n",
    "    sq.update(((X+x, Y+y), v) for (x, y), v in repl.items())\n",
    "\n",
    "def grow(seed, rules):\n",
    "    '''Yield successive generations of the seed pattern\n",
    "\n",
    "    - If the size is evenly divisible by 2, break the pixels up into\n",
    "      2x2 squares, and replace each 2x2 square by a 3x3 square.\n",
    "\n",
    "    - Otherwise, the size is evenly divisible by 3; break the pixels\n",
    "      up into 3x3 squares, and replace each 3x3 square by a 4x4 square\n",
    "    '''\n",
    "    rule_sizes = (2, 3)\n",
    "    while True:\n",
    "        yield seed\n",
    "        N = side(seed)\n",
    "        new_seed = {}\n",
    "        R = next(R for R in rule_sizes if N % R == 0)\n",
    "        for x, y in sq_points(N//R):\n",
    "            match = shift(seed, R*x, R*y, R)\n",
    "            fill(new_seed, (R+1)*x, (R+1)*y, rules[hashable_sq(match)])\n",
    "        seed = new_seed\n",
    "\n",
    "def pixels(sq):\n",
    "    'Return the number of pixels which are on in `sq`.'\n",
    "    return sum(sq.values())\n",
    "\n",
    "def display(sq):\n",
    "    N = side(sq)\n",
    "    return '\\n'.join(\n",
    "        ''.join('.#'[sq[(y,x)]] for y in range(N))\n",
    "        for x in range(N))\n",
    "\n",
    "example21 = '''\\\n",
    "../.# => ##./#../...\n",
    ".#./..#/### => #..#/..../..../#..#\n",
    "'''\n",
    "\n",
    "seed = load('.#./..#/###')\n",
    "rules = load_all(example21)\n",
    "\n",
    "g = grow(seed, rules)\n",
    "print('\\n' + display(next(g)))\n",
    "print('\\n' + display(next(g)))\n",
    "print('\\n' + display(next(g)))\n",
    "\n",
    "assert pixels(next(its.islice(grow(seed, rules), 2, None))) == 12"
   ]
  },
  {
   "cell_type": "markdown",
   "metadata": {},
   "source": [
    "Part one: how many pixels stay on after 5 iterations?"
   ]
  },
  {
   "cell_type": "code",
   "execution_count": 58,
   "metadata": {},
   "outputs": [
    {
     "data": {
      "text/plain": [
       "142"
      ]
     },
     "execution_count": 58,
     "metadata": {},
     "output_type": "execute_result"
    }
   ],
   "source": [
    "rules = load_all(input(21))\n",
    "pixels(next(its.islice(grow(seed, rules), 5, None)))"
   ]
  },
  {
   "cell_type": "markdown",
   "metadata": {},
   "source": [
    "Part two: how many pixels stay on after 18 iterations?"
   ]
  },
  {
   "cell_type": "code",
   "execution_count": 60,
   "metadata": {},
   "outputs": [
    {
     "data": {
      "text/plain": [
       "1879071"
      ]
     },
     "execution_count": 60,
     "metadata": {},
     "output_type": "execute_result"
    }
   ],
   "source": [
    "pixels(next(its.islice(grow(seed, rules), 18, None)))"
   ]
  },
  {
   "cell_type": "markdown",
   "metadata": {},
   "source": [
    "### [Day 22](http://adventofcode.com/2017/day/22) Sporifica Virus\n",
    "Updating a grid according to simple rules."
   ]
  },
  {
   "cell_type": "code",
   "execution_count": 61,
   "metadata": {},
   "outputs": [
    {
     "name": "stdout",
     "output_type": "stream",
     "text": [
      "((1-1j), 1j, 0)\n",
      "(-1j, (-1+0j), 2)\n",
      "(0j, 1j, 0)\n"
     ]
    },
    {
     "data": {
      "text/plain": [
       "5406"
      ]
     },
     "execution_count": 61,
     "metadata": {},
     "output_type": "execute_result"
    }
   ],
   "source": [
    "CLEAN, WEAKENED, INFECTED, FLAGGED = range(4)\n",
    "\n",
    "def carry_virus(grid, pos, dir):\n",
    "    while True:\n",
    "        status = grid.get(pos, CLEAN)\n",
    "        yield pos, dir, status\n",
    "        infected = status == INFECTED\n",
    "        dir *= -1j if infected else 1j\n",
    "        grid[pos] = CLEAN if infected else INFECTED\n",
    "        pos += dir\n",
    "\n",
    "def load(data):\n",
    "    '''Loads the data into a grid\n",
    "\n",
    "    Returns:\n",
    "    - the grid mapping (complex) position to infected status\n",
    "    - the initial position\n",
    "    - the initial direction\n",
    "    '''\n",
    "    rows = data.splitlines()\n",
    "    mid = (len(rows[0])-1)//2, -(len(rows)-1)//2\n",
    "    return {complex(x, -y): (INFECTED if c == '#' else CLEAN)\n",
    "            for y, row in enumerate(rows)\n",
    "            for x, c in enumerate(row)}, complex(*mid), 1j\n",
    "\n",
    "example22 = '''\\\n",
    "..#\n",
    "#..\n",
    "...\n",
    "'''\n",
    "\n",
    "grid, pos, dir = load(example22)\n",
    "g = carry_virus(grid, pos, dir)\n",
    "print(next(g))\n",
    "print(next(g))\n",
    "print(next(g))\n",
    "\n",
    "def infections_caused(data, bursts):\n",
    "    grid, pos, dir = load(data)\n",
    "    steps = its.islice(carry_virus(grid, pos, dir), bursts)\n",
    "    return sum(1 for pos, dir, inf in steps if inf == CLEAN)\n",
    "\n",
    "assert infections_caused(example22, 7) == 5\n",
    "assert infections_caused(example22, 70) == 41\n",
    "assert infections_caused(example22, 10000) == 5587\n",
    "\n",
    "infections_caused(input(22), 10000)"
   ]
  },
  {
   "cell_type": "markdown",
   "metadata": {},
   "source": [
    "Part two changes the rules."
   ]
  },
  {
   "cell_type": "code",
   "execution_count": 62,
   "metadata": {},
   "outputs": [
    {
     "data": {
      "text/plain": [
       "2511640"
      ]
     },
     "execution_count": 62,
     "metadata": {},
     "output_type": "execute_result"
    }
   ],
   "source": [
    "def carry_resistant_virus(grid, pos, dir):\n",
    "    while True:\n",
    "        status = grid.get(pos, CLEAN)\n",
    "        yield pos, dir, status\n",
    "        dir *= {\n",
    "            CLEAN: 1j,\n",
    "            WEAKENED: 1,\n",
    "            INFECTED: -1j,\n",
    "            FLAGGED: -1\n",
    "        }[status]\n",
    "        grid[pos] = (status + 1) % 4\n",
    "        pos += dir\n",
    "\n",
    "def resistant_infections_caused(data, bursts):\n",
    "    grid, pos, dir = load(data)\n",
    "    steps = its.islice(carry_resistant_virus(grid, pos, dir), bursts)\n",
    "    return sum(1 for pos, dir, inf in steps if inf == WEAKENED)\n",
    "\n",
    "assert resistant_infections_caused(example22, 100) == 26\n",
    "assert resistant_infections_caused(example22, 10_000_000) == 2511944\n",
    "resistant_infections_caused(input(22), 10_000_000)"
   ]
  },
  {
   "cell_type": "markdown",
   "metadata": {},
   "source": [
    "### [Day 23](http://adventofcode.com/2017/day/23) Coprocessor Conflagration\n",
    "Implement then optimise some assembler."
   ]
  },
  {
   "cell_type": "code",
   "execution_count": 64,
   "metadata": {},
   "outputs": [
    {
     "data": {
      "text/plain": [
       "3025"
      ]
     },
     "execution_count": 64,
     "metadata": {},
     "output_type": "execute_result"
    }
   ],
   "source": [
    "def execute(instructions):\n",
    "    pc = 0\n",
    "    regs = {c : 0 for c in 'abcdefgh'}\n",
    "\n",
    "    def value(arg):\n",
    "        if arg in regs:\n",
    "            return regs[arg]\n",
    "        else:\n",
    "            return int(arg)\n",
    "\n",
    "    while pc in instructions:\n",
    "        op, *args = instructions[pc]\n",
    "        if   op == 'set': regs[args[0]]  = value(args[1])\n",
    "        elif op == 'sub': regs[args[0]] -= value(args[1])\n",
    "        elif op == 'mul': regs[args[0]] *= value(args[1])\n",
    "        elif op != 'jnz':\n",
    "            assert False, f'invalid operation: {op}'\n",
    "\n",
    "        if op == 'jnz' and value(args[0]) != 0:\n",
    "            pc += value(args[1])\n",
    "        else:\n",
    "            pc += 1\n",
    "        yield op, regs\n",
    "\n",
    "def parse_instructions(data):\n",
    "    return  {\n",
    "        i : line.split()\n",
    "        for i, line in enumerate(data.splitlines())\n",
    "    }\n",
    "\n",
    "instructions = parse_instructions(input(23))\n",
    "\n",
    "sum(1 for op, _ in execute(instructions) if op == 'mul')"
   ]
  },
  {
   "cell_type": "markdown",
   "metadata": {
    "collapsed": true
   },
   "source": [
    "Part two sets register `a` to 1 and warns us the calculation is going to require optimisation. I tried putting print statements in the `execute()` function and looking for patterns in the register values, but nothing leapt out at me.\n",
    "\n",
    "Next I tried carefully converting the assembler code to Python."
   ]
  },
  {
   "cell_type": "code",
   "execution_count": 3,
   "metadata": {
    "collapsed": true
   },
   "outputs": [],
   "source": [
    "def day23():\n",
    "    a = 1\n",
    "    b = c = d = f = g = h = 0\n",
    "\n",
    "    b = 57                   # set b 57\n",
    "    c = b                    # set c b\n",
    "    if a != 0:               # jnz a 2\n",
    "                             # jnz 1 5\n",
    "        b *= 100             # mul b 100\n",
    "        b += 100000          # sub b -100000\n",
    "        c = b                # set c b\n",
    "        c += 17000           # sub c -17000\n",
    "    while True:\n",
    "        f = 1                # set f 1\n",
    "        d = 2                # set d 2\n",
    "        while True:\n",
    "            e = 2            # set e 2\n",
    "            while True:\n",
    "                g = d        # set g d\n",
    "                g *= e       # mul g e\n",
    "                g -= b       # sub g b\n",
    "                if g == 0:   # jnz g 2\n",
    "                    f = 0    # set f 0\n",
    "                e += 1       # sub e -1\n",
    "                g = e        # set g e\n",
    "                g -= b       # sub g b\n",
    "                if g == 0: break # jnz g -8\n",
    "            d += 1           # sub d -1\n",
    "            g = d            # set g d\n",
    "            g -= b           # sub g b\n",
    "            if g == 0: break # jnz g -13\n",
    "        if f == 0:           # jnz f 2\n",
    "            h += 1           # sub h -1\n",
    "        g = b                # set g b\n",
    "        g -= c               # sub g c\n",
    "        if g == 0:           # jnz g 2\n",
    "            break            # jnz 1 3\n",
    "        b += 17              # sub b -17\n",
    "                             # jnz 1 -23\n",
    "    return h"
   ]
  },
  {
   "cell_type": "markdown",
   "metadata": {},
   "source": [
    "We are only interested in the final value of `h`, which counts the number of times `f` is set to `0` after executing a nested inner loop.\n",
    "\n",
    "I refactored the code to use `range()` and some other simplifications."
   ]
  },
  {
   "cell_type": "code",
   "execution_count": 6,
   "metadata": {
    "collapsed": true
   },
   "outputs": [],
   "source": [
    "def day23():\n",
    "    h = 0\n",
    "    b = 105700\n",
    "    c = 122700\n",
    "\n",
    "    for b in range(b, c + 17, 17):\n",
    "        f = 1\n",
    "        for d in range(2, b):\n",
    "            for e in range(2, b):\n",
    "                if d * e == b:\n",
    "                    f = 0\n",
    "        if f == 0:\n",
    "            h += 1\n",
    "\n",
    "    return h"
   ]
  },
  {
   "cell_type": "markdown",
   "metadata": {},
   "source": [
    "So, `b` steps through a range of values. For each value of `b` we check all pairs of values between `2` and `b` to see if their product is equal to `b`. If this is `True` for any such pair, we increment the result, `h`. In other words, we're counting the composite numbers in `range(105700, 122700 + 17, 17)`."
   ]
  },
  {
   "cell_type": "code",
   "execution_count": 12,
   "metadata": {},
   "outputs": [
    {
     "data": {
      "text/plain": [
       "915"
      ]
     },
     "execution_count": 12,
     "metadata": {},
     "output_type": "execute_result"
    }
   ],
   "source": [
    "def day23():\n",
    "    h = 0\n",
    "    b = 105700\n",
    "    c = 122700\n",
    "\n",
    "    for b in range(b, c + 17, 17):\n",
    "        for d in range(2, int(math.sqrt(b))):\n",
    "            if b % d == 0:\n",
    "                h += 1\n",
    "                break\n",
    "\n",
    "    return h\n",
    "\n",
    "day23()"
   ]
  },
  {
   "cell_type": "markdown",
   "metadata": {},
   "source": [
    "### [Day 24](http://adventofcode.com/2017/day/24) Electromagnetic Moat\n",
    "What's the stongest bridge you can make by connecting components?"
   ]
  },
  {
   "cell_type": "code",
   "execution_count": 33,
   "metadata": {},
   "outputs": [
    {
     "data": {
      "text/plain": [
       "1868"
      ]
     },
     "execution_count": 33,
     "metadata": {},
     "output_type": "execute_result"
    }
   ],
   "source": [
    "def bridges(pins):\n",
    "    '''Generate strengths for bridges built from `pins`\n",
    "    '''\n",
    "    # Each state in the space we want to explore has:\n",
    "    # - current end value\n",
    "    # - strength \n",
    "    # - pins left to use\n",
    "    explore = [(0, 0, pins)]\n",
    "    while explore:\n",
    "        end, strength, pins = explore.pop()\n",
    "        yield strength\n",
    "        explore.extend((p[1] if p[0]==end else p[0],\n",
    "                        strength + sum(p), \n",
    "                        pins[:i] + pins[i+1:])\n",
    "                        for i, p in enumerate(pins) if end in p)\n",
    "\n",
    "example24 = '''\\\n",
    "0/2\n",
    "2/2\n",
    "2/3\n",
    "3/4\n",
    "3/5\n",
    "0/1\n",
    "10/1\n",
    "9/10\n",
    "'''\n",
    "\n",
    "assert max(bridges(array(example24))) >= 31\n",
    "max(bridges(array(input(24))))"
   ]
  },
  {
   "cell_type": "markdown",
   "metadata": {},
   "source": [
    "The second part of the puzzle asks for the strength of the longest bridge you can make. If you can make multiple bridges of the longest length, pick the strongest one. To do this, adapt the state of nodes in the search space to include length information."
   ]
  },
  {
   "cell_type": "code",
   "execution_count": 21,
   "metadata": {},
   "outputs": [
    {
     "data": {
      "text/plain": [
       "1841"
      ]
     },
     "execution_count": 21,
     "metadata": {},
     "output_type": "execute_result"
    }
   ],
   "source": [
    "def bridges(pins):\n",
    "    '''Generate (length, strength) pairs for bridges built from `pins`\n",
    "    '''\n",
    "    # Each state in the space we want to explore has:\n",
    "    # - current end value\n",
    "    # - length\n",
    "    # - strength \n",
    "    # - pins left to use\n",
    "    explore = [(0, 0, 0, pins)]\n",
    "    while explore:\n",
    "        end, length, strength, pins = explore.pop()\n",
    "        yield length, strength\n",
    "        explore.extend((p[1] if p[0]==end else p[0],\n",
    "                        length + 1,\n",
    "                        strength + sum(p), \n",
    "                        pins[:i] + pins[i+1:])\n",
    "                        for i, p in enumerate(pins) if end in p)\n",
    "\n",
    "max(bridges(load(input(24))))[1]"
   ]
  },
  {
   "cell_type": "markdown",
   "metadata": {},
   "source": [
    "### [Day 25](http://adventofcode.com/2017/day/25) The Halting Problem\n",
    "Implement a Turing machine."
   ]
  },
  {
   "cell_type": "code",
   "execution_count": 22,
   "metadata": {
    "collapsed": true
   },
   "outputs": [],
   "source": [
    "example25 = '''\\\n",
    "Begin in state A.\n",
    "Perform a diagnostic checksum after 6 steps.\n",
    "\n",
    "In state A:\n",
    "  If the current value is 0:\n",
    "    - Write the value 1.\n",
    "    - Move one slot to the right.\n",
    "    - Continue with state B.\n",
    "  If the current value is 1:\n",
    "    - Write the value 0.\n",
    "    - Move one slot to the left.\n",
    "    - Continue with state B.\n",
    "\n",
    "In state B:\n",
    "  If the current value is 0:\n",
    "    - Write the value 1.\n",
    "    - Move one slot to the left.\n",
    "    - Continue with state A.\n",
    "  If the current value is 1:\n",
    "    - Write the value 1.\n",
    "    - Move one slot to the right.\n",
    "    - Continue with state A.\n",
    "'''"
   ]
  },
  {
   "cell_type": "markdown",
   "metadata": {},
   "source": [
    "Much of the difficulty here is parsing the input. We can use regular expressions to read the initial setup, and also the state machine."
   ]
  },
  {
   "cell_type": "code",
   "execution_count": 23,
   "metadata": {
    "collapsed": true
   },
   "outputs": [],
   "source": [
    "state_pattern = '''\\\n",
    "In state (\\w):\n",
    "  If the current value is 0:\n",
    "    - Write the value (\\d)\\.\n",
    "    - Move one slot to the (right|left)\\.\n",
    "    - Continue with state (\\w)\\.\n",
    "  If the current value is 1:\n",
    "    - Write the value (\\d)\\.\n",
    "    - Move one slot to the (right|left)\\.\n",
    "    - Continue with state (\\w)\\.\n",
    "'''\n",
    "\n",
    "State = collections.namedtuple('State', 'write step next')\n",
    "\n",
    "def state_machine(data):\n",
    "    'Create the state machine from the text description.'\n",
    "    def make_state(m):\n",
    "        return (\n",
    "            State(int(m[0]), 1 if m[1] == 'right' else -1, m[2]),\n",
    "            State(int(m[3]), 1 if m[4] == 'right' else -1, m[5]))\n",
    "    return {s: make_state(m)\n",
    "            for s, *m in re.compile(state_pattern).findall(data)}\n",
    "\n",
    "setup_pattern = '''\\\n",
    "Begin in state (\\w)\\.\n",
    "Perform a diagnostic checksum after (\\d+) steps.\n",
    "'''\n",
    "\n",
    "def setup(data):\n",
    "    'Return (start state, steps until checksum).'\n",
    "    m = re.compile(setup_pattern).match(data)\n",
    "    return m.group(1), int(m.group(2))"
   ]
  },
  {
   "cell_type": "markdown",
   "metadata": {},
   "source": [
    "Running the machine is straightforward."
   ]
  },
  {
   "cell_type": "code",
   "execution_count": 24,
   "metadata": {},
   "outputs": [
    {
     "data": {
      "text/plain": [
       "4217"
      ]
     },
     "execution_count": 24,
     "metadata": {},
     "output_type": "execute_result"
    }
   ],
   "source": [
    "def run(state_machine, state, steps):\n",
    "    '''Run `state_machine` for a number of `steps` starting in a given `state`.\n",
    "    \n",
    "    Returns the final tape\n",
    "    '''\n",
    "    tape = collections.defaultdict(int)\n",
    "    pos = 0\n",
    "    for _ in range(steps):\n",
    "        action = state_machine[state][tape[pos]]\n",
    "        tape[pos] = action.write\n",
    "        pos += action.step\n",
    "        state = action.next\n",
    "    return tape\n",
    "\n",
    "tape = run(state_machine(example25), *setup(example25))\n",
    "assert sum(tape.values()) == 3\n",
    "\n",
    "spec = input(25)\n",
    "tape = run(state_machine(spec), *setup(spec))\n",
    "sum(tape.values())"
   ]
  },
  {
   "cell_type": "markdown",
   "metadata": {},
   "source": [
    "![That was fun](done.png \"50 Stars\")"
   ]
  },
  {
   "cell_type": "code",
   "execution_count": null,
   "metadata": {
    "collapsed": true
   },
   "outputs": [],
   "source": []
  }
 ],
 "metadata": {
  "kernelspec": {
   "display_name": "Python 3",
   "language": "python",
   "name": "python3"
  },
  "language_info": {
   "codemirror_mode": {
    "name": "ipython",
    "version": 3
   },
   "file_extension": ".py",
   "mimetype": "text/x-python",
   "name": "python",
   "nbconvert_exporter": "python",
   "pygments_lexer": "ipython3",
   "version": "3.6.2"
  }
 },
 "nbformat": 4,
 "nbformat_minor": 2
}
